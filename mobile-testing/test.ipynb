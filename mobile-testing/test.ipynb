{
 "cells": [
  {
   "cell_type": "code",
   "execution_count": 6,
   "metadata": {},
   "outputs": [
    {
     "name": "stderr",
     "output_type": "stream",
     "text": [
      "E\n",
      "======================================================================\n",
      "ERROR: test_find_battery (__main__.TestAppium.test_find_battery)\n",
      "----------------------------------------------------------------------\n",
      "Traceback (most recent call last):\n",
      "  File \"C:\\Users\\RPFC\\AppData\\Local\\Temp\\ipykernel_36684\\3490519124.py\", line 27, in test_find_battery\n",
      "    el = self.driver.find_element(by=AppiumBy.XPATH, value='//*[@text=\"Battery\"]')\n",
      "         ^^^^^^^^^^^^^^^^^^^^^^^^^^^^^^^^^^^^^^^^^^^^^^^^^^^^^^^^^^^^^^^^^^^^^^^^^\n",
      "  File \"c:\\Users\\RPFC\\anaconda3\\envs\\machinelearning-nur\\Lib\\site-packages\\appium\\webdriver\\webdriver.py\", line 382, in find_element\n",
      "    return self.execute(RemoteCommand.FIND_ELEMENT, {'using': by, 'value': value})['value']\n",
      "           ^^^^^^^^^^^^^^^^^^^^^^^^^^^^^^^^^^^^^^^^^^^^^^^^^^^^^^^^^^^^^^^^^^^^^^^\n",
      "  File \"c:\\Users\\RPFC\\anaconda3\\envs\\machinelearning-nur\\Lib\\site-packages\\selenium\\webdriver\\remote\\webdriver.py\", line 354, in execute\n",
      "    self.error_handler.check_response(response)\n",
      "  File \"c:\\Users\\RPFC\\anaconda3\\envs\\machinelearning-nur\\Lib\\site-packages\\appium\\webdriver\\errorhandler.py\", line 125, in check_response\n",
      "    raise exception_class(msg=message, stacktrace=format_stacktrace(stacktrace))\n",
      "selenium.common.exceptions.NoSuchElementException: Message: An element could not be located on the page using the given search parameters.; For documentation on this error, please visit: https://www.selenium.dev/documentation/webdriver/troubleshooting/errors#no-such-element-exception\n",
      "Stacktrace:\n",
      "NoSuchElementError: An element could not be located on the page using the given search parameters.\n",
      "    at AndroidUiautomator2Driver.findElOrEls (C:\\Users\\RPFC\\.appium\\node_modules\\appium-uiautomator2-driver\\node_modules\\appium-android-driver\\lib\\commands\\find.ts:86:11)\n",
      "    at processTicksAndRejections (node:internal/process/task_queues:95:5)\n",
      "    at AndroidUiautomator2Driver.findElOrElsWithProcessing (C:\\Users\\RPFC\\AppData\\Roaming\\nvm\\v21.0.0\\node_modules\\appium\\node_modules\\@appium\\base-driver\\lib\\basedriver\\commands\\find.ts:60:12)\n",
      "    at AndroidUiautomator2Driver.findElement (C:\\Users\\RPFC\\AppData\\Roaming\\nvm\\v21.0.0\\node_modules\\appium\\node_modules\\@appium\\base-driver\\lib\\basedriver\\commands\\find.ts:75:12)\n",
      "\n",
      "----------------------------------------------------------------------\n",
      "Ran 1 test in 15.772s\n",
      "\n",
      "FAILED (errors=1)\n"
     ]
    }
   ],
   "source": [
    "\n",
    "import unittest\n",
    "from appium import webdriver\n",
    "from appium.options.android import UiAutomator2Options\n",
    "from appium.webdriver.common.appiumby import AppiumBy\n",
    "\n",
    "capabilities = dict(\n",
    "    platformName='Android',\n",
    "    automationName='uiautomator2',\n",
    "    deviceName='Android',\n",
    "    appPackage='com.android.settings',\n",
    "    appActivity='.Settings',\n",
    "    language='en',\n",
    "    locale='US'\n",
    ")\n",
    "\n",
    "appium_server_url = 'http://localhost:4723'\n",
    "\n",
    "class TestAppium(unittest.TestCase):\n",
    "    def setUp(self) -> None:\n",
    "        self.driver = webdriver.Remote(appium_server_url, options=UiAutomator2Options().load_capabilities(capabilities))\n",
    "\n",
    "    def tearDown(self) -> None:\n",
    "        if self.driver:\n",
    "            self.driver.quit()\n",
    "\n",
    "    def test_find_battery(self) -> None:\n",
    "        el = self.driver.find_element(by=AppiumBy.XPATH, value='//*[@text=\"Battery\"]')\n",
    "        el.click()\n",
    "\n",
    "if __name__ == '__main__':\n",
    "    unittest.main(argv=['first-arg-is-ignored'], exit=False)"
   ]
  }
 ],
 "metadata": {
  "kernelspec": {
   "display_name": "machinelearning-nur",
   "language": "python",
   "name": "python3"
  },
  "language_info": {
   "codemirror_mode": {
    "name": "ipython",
    "version": 3
   },
   "file_extension": ".py",
   "mimetype": "text/x-python",
   "name": "python",
   "nbconvert_exporter": "python",
   "pygments_lexer": "ipython3",
   "version": "3.11.9"
  }
 },
 "nbformat": 4,
 "nbformat_minor": 2
}
