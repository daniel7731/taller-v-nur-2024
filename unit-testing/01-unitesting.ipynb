{
 "cells": [
  {
   "cell_type": "code",
   "execution_count": 2,
   "metadata": {},
   "outputs": [
    {
     "name": "stderr",
     "output_type": "stream",
     "text": [
      "test_isupper (__main__.TestStringMethods.test_isupper) ... ok\n",
      "test_split (__main__.TestStringMethods.test_split) ... ok\n",
      "test_upper (__main__.TestStringMethods.test_upper) ... ok\n",
      "\n",
      "----------------------------------------------------------------------\n",
      "Ran 3 tests in 0.003s\n",
      "\n",
      "OK\n"
     ]
    },
    {
     "name": "stdout",
     "output_type": "stream",
     "text": [
      "\n",
      "Results Summary\n",
      "Ran 3 tests\n",
      "Failures: 0\n",
      "Errors: 0\n"
     ]
    }
   ],
   "source": [
    "import unittest\n",
    "class TestStringMethods(unittest.TestCase):\n",
    "\n",
    "    def test_upper(self):\n",
    "        self.assertEqual('foo'.upper(), 'FOO')\n",
    "\n",
    "    def test_isupper(self):\n",
    "        self.assertTrue('FOO'.isupper())\n",
    "        self.assertFalse('Foo'.isupper())\n",
    "\n",
    "    def test_split(self):\n",
    "        s = 'hello world'\n",
    "        self.assertEqual(s.split(), ['hello', 'world'])\n",
    "        # check that s.split fails when the separator is not a string\n",
    "        with self.assertRaises(TypeError):\n",
    "            s.split(2)\n",
    "\n",
    "if __name__ == '__main__':\n",
    "    # Create a test suite\n",
    "    suite = unittest.TestLoader().loadTestsFromTestCase(TestStringMethods)\n",
    "    \n",
    "    # Run the test suite and generate a report\n",
    "    runner = unittest.TextTestRunner(verbosity=2)\n",
    "    result = runner.run(suite)\n",
    "    \n",
    "    # Print a summary of the results\n",
    "    print(\"\\nResults Summary\")\n",
    "    print(f\"Ran {result.testsRun} tests\")\n",
    "    print(f\"Failures: {len(result.failures)}\")\n",
    "    print(f\"Errors: {len(result.errors)}\")\n",
    "    \n",
    "    # Print detailed failure information\n",
    "    if result.failures:\n",
    "        print(\"\\nFailures:\")\n",
    "        for failure in result.failures:\n",
    "            print(failure)\n",
    "\n",
    "    # Print detailed error information\n",
    "    if result.errors:\n",
    "        print(\"\\nErrors:\")\n",
    "        for error in result.errors:\n",
    "            print(error)\n"
   ]
  }
 ],
 "metadata": {
  "kernelspec": {
   "display_name": "visioncomputer311",
   "language": "python",
   "name": "python3"
  },
  "language_info": {
   "codemirror_mode": {
    "name": "ipython",
    "version": 3
   },
   "file_extension": ".py",
   "mimetype": "text/x-python",
   "name": "python",
   "nbconvert_exporter": "python",
   "pygments_lexer": "ipython3",
   "version": "3.11.9"
  }
 },
 "nbformat": 4,
 "nbformat_minor": 2
}
