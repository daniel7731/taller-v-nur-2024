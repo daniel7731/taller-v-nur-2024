{
 "cells": [
  {
   "cell_type": "code",
   "execution_count": 15,
   "metadata": {},
   "outputs": [],
   "source": [
    "import dill\n",
    "matematics=None\n",
    "with open(\"mylib.pkl\", \"rb\") as f:\n",
    "    matematics = dill.load(f)"
   ]
  },
  {
   "cell_type": "code",
   "execution_count": 16,
   "metadata": {},
   "outputs": [
    {
     "data": {
      "text/plain": [
       "__main__.matematics"
      ]
     },
     "execution_count": 16,
     "metadata": {},
     "output_type": "execute_result"
    }
   ],
   "source": [
    "type(matematics)"
   ]
  },
  {
   "cell_type": "code",
   "execution_count": 17,
   "metadata": {},
   "outputs": [
    {
     "data": {
      "text/plain": [
       "['__class__',\n",
       " '__delattr__',\n",
       " '__dict__',\n",
       " '__dir__',\n",
       " '__doc__',\n",
       " '__eq__',\n",
       " '__format__',\n",
       " '__ge__',\n",
       " '__getattribute__',\n",
       " '__getstate__',\n",
       " '__gt__',\n",
       " '__hash__',\n",
       " '__init__',\n",
       " '__init_subclass__',\n",
       " '__le__',\n",
       " '__lt__',\n",
       " '__module__',\n",
       " '__ne__',\n",
       " '__new__',\n",
       " '__reduce__',\n",
       " '__reduce_ex__',\n",
       " '__repr__',\n",
       " '__setattr__',\n",
       " '__sizeof__',\n",
       " '__slotnames__',\n",
       " '__str__',\n",
       " '__subclasshook__',\n",
       " '__weakref__',\n",
       " 'es_primo',\n",
       " 'factorial_iterativo',\n",
       " 'mcd',\n",
       " 'mcm',\n",
       " 'perimetro_circunferencia']"
      ]
     },
     "execution_count": 17,
     "metadata": {},
     "output_type": "execute_result"
    }
   ],
   "source": [
    "dir(matematics)"
   ]
  },
  {
   "cell_type": "code",
   "execution_count": 18,
   "metadata": {},
   "outputs": [
    {
     "data": {
      "text/plain": [
       "True"
      ]
     },
     "execution_count": 18,
     "metadata": {},
     "output_type": "execute_result"
    }
   ],
   "source": [
    "matematics.es_primo(5)"
   ]
  },
  {
   "cell_type": "code",
   "execution_count": 19,
   "metadata": {},
   "outputs": [
    {
     "data": {
      "text/plain": [
       "257.6112"
      ]
     },
     "execution_count": 19,
     "metadata": {},
     "output_type": "execute_result"
    }
   ],
   "source": [
    "matematics.perimetro_circunferencia(41)"
   ]
  },
  {
   "cell_type": "code",
   "execution_count": 27,
   "metadata": {},
   "outputs": [
    {
     "name": "stderr",
     "output_type": "stream",
     "text": [
      "test_esPrimo15 (__main__.TestMatematicsMethods.test_esPrimo15) ... FAIL\n",
      "test_esPrimo5 (__main__.TestMatematicsMethods.test_esPrimo5) ... ok\n",
      "test_factorial5 (__main__.TestMatematicsMethods.test_factorial5) ... ok\n",
      "\n",
      "======================================================================\n",
      "FAIL: test_esPrimo15 (__main__.TestMatematicsMethods.test_esPrimo15)\n",
      "----------------------------------------------------------------------\n",
      "Traceback (most recent call last):\n",
      "  File \"C:\\Users\\RPFC\\AppData\\Local\\Temp\\ipykernel_30888\\2516763006.py\", line 16, in test_esPrimo15\n",
      "    self.assertEqual(test, True)\n",
      "AssertionError: False != True\n",
      "\n",
      "----------------------------------------------------------------------\n",
      "Ran 3 tests in 0.004s\n",
      "\n",
      "FAILED (failures=1)\n"
     ]
    },
    {
     "name": "stdout",
     "output_type": "stream",
     "text": [
      "\n",
      "Results Summary\n",
      "Ran 3 tests\n",
      "Failures: 1\n",
      "Errors: 0\n",
      "\n",
      "Failures:\n",
      "(<__main__.TestMatematicsMethods testMethod=test_esPrimo15>, 'Traceback (most recent call last):\\n  File \"C:\\\\Users\\\\RPFC\\\\AppData\\\\Local\\\\Temp\\\\ipykernel_30888\\\\2516763006.py\", line 16, in test_esPrimo15\\n    self.assertEqual(test, True)\\nAssertionError: False != True\\n')\n"
     ]
    }
   ],
   "source": [
    "import unittest\n",
    "class TestMatematicsMethods(unittest.TestCase):\n",
    "    def __init__(self, methodName: str = \"runTest\") -> None:\n",
    "        super().__init__(methodName)\n",
    "        self.matematics = None\n",
    "        with open(\"mylib.pkl\", \"rb\") as f:\n",
    "            self.matematics = dill.load(f)\n",
    "    def setUp(self) -> None:\n",
    "        \n",
    "        return super().setUp()\n",
    "    def test_esPrimo5(self):  \n",
    "        test = self.matematics.es_primo(5) \n",
    "        self.assertEqual(test, True)\n",
    "    def test_esPrimo15(self):  \n",
    "        test = self.matematics.es_primo(15) \n",
    "        self.assertEqual(test, True)    \n",
    "    def test_factorial5(self):\n",
    "        self.assertEqual(self.matematics.factorial_iterativo(5),120)    \n",
    "if __name__ == '__main__':\n",
    "    #unittest.main(argv=['first-arg-is-ignored'], exit=False) \n",
    "    # # Create a test suite\n",
    "    suite = unittest.TestLoader().loadTestsFromTestCase(TestMatematicsMethods)\n",
    "    \n",
    "    # Run the test suite and generate a report\n",
    "    runner = unittest.TextTestRunner(verbosity=2)\n",
    "    result = runner.run(suite)\n",
    "    \n",
    "    # Print a summary of the results\n",
    "    print(\"\\nResults Summary\")\n",
    "    print(f\"Ran {result.testsRun} tests\")\n",
    "    print(f\"Failures: {len(result.failures)}\")\n",
    "    print(f\"Errors: {len(result.errors)}\")\n",
    "    \n",
    "    # Print detailed failure information\n",
    "    if result.failures:\n",
    "        print(\"\\nFailures:\")\n",
    "        for failure in result.failures:\n",
    "            print(failure)\n",
    "\n",
    "    # Print detailed error information\n",
    "    if result.errors:\n",
    "        print(\"\\nErrors:\")\n",
    "        for error in result.errors:\n",
    "            print(error)      "
   ]
  }
 ],
 "metadata": {
  "kernelspec": {
   "display_name": "clasificadores",
   "language": "python",
   "name": "python3"
  },
  "language_info": {
   "codemirror_mode": {
    "name": "ipython",
    "version": 3
   },
   "file_extension": ".py",
   "mimetype": "text/x-python",
   "name": "python",
   "nbconvert_exporter": "python",
   "pygments_lexer": "ipython3",
   "version": "3.12.2"
  }
 },
 "nbformat": 4,
 "nbformat_minor": 2
}
