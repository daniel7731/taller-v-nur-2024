{
 "cells": [
  {
   "cell_type": "code",
   "execution_count": 11,
   "metadata": {},
   "outputs": [],
   "source": [
    "import math\n",
    "class matematics:\n",
    "    def __init__(self) -> None:\n",
    "        count =0\n",
    "    def es_primo(self, numero: int)->bool:\n",
    "    # Los números menores o iguales a 1 no son primos\n",
    "        if numero <= 1:\n",
    "            return False\n",
    "\n",
    "        # Los números primos solo son divisibles por 1 y por sí mismos.\n",
    "        # Por lo tanto, basta con comprobar la divisibilidad hasta la raíz cuadrada del número.\n",
    "        for i in range(2, int(numero**0.5) + 1):\n",
    "            if numero % i == 0:\n",
    "                return False\n",
    "\n",
    "    # Si no se encontró ningún divisor, el número es primo\n",
    "        return True \n",
    "    def factorial_iterativo(self,n:int)->int:\n",
    "        if n == 0:\n",
    "            return 1\n",
    "        else:\n",
    "            factorial = 1\n",
    "            for i in range(1, n + 1):\n",
    "             factorial *= i\n",
    "            return factorial    \n",
    "    def perimetro_circunferencia(self,radio)->float:\n",
    "        \"\"\"\n",
    "        Calcula el perímetro de una circunferencia.\n",
    "\n",
    "        Args:\n",
    "            radio: El radio de la circunferencia.\n",
    "\n",
    "        Returns:\n",
    "            El perímetro de la circunferencia.\n",
    "        \"\"\"\n",
    "\n",
    "        # Utilizamos la fórmula del perímetro: P = 2 * pi * radio\n",
    "        perimetro = 2 * 3.1416 * radio\n",
    "        return perimetro    \n",
    "    def mcd(self,a, b):\n",
    "        \"\"\"\n",
    "        Calcula el máximo común divisor de dos números utilizando el algoritmo de Euclides.\n",
    "\n",
    "        Args:\n",
    "            a: El primer número.\n",
    "            b: El segundo número.\n",
    "\n",
    "        Returns:\n",
    "            El máximo común divisor de a y b.\n",
    "        \"\"\"\n",
    "        while b != 0:\n",
    "            a, b = b, a % b\n",
    "        return a\n",
    "    def mcm(self,num1,num2):\n",
    "        mcd_result = self.mcd(num1, num2)\n",
    "        mcm_result = (num1 * num2) // mcd_result\n",
    "        return mcm_result"
   ]
  },
  {
   "cell_type": "code",
   "execution_count": 12,
   "metadata": {},
   "outputs": [
    {
     "data": {
      "text/plain": [
       "120"
      ]
     },
     "execution_count": 12,
     "metadata": {},
     "output_type": "execute_result"
    }
   ],
   "source": [
    "binmat=  matematics()\n",
    "binmat.factorial_iterativo(5)\n"
   ]
  },
  {
   "cell_type": "code",
   "execution_count": 13,
   "metadata": {},
   "outputs": [],
   "source": [
    "import dill\n",
    "with open(\"mylib.pkl\", \"wb\") as f:\n",
    "    dill.dump(binmat,f)"
   ]
  }
 ],
 "metadata": {
  "kernelspec": {
   "display_name": "clasificadores",
   "language": "python",
   "name": "python3"
  },
  "language_info": {
   "codemirror_mode": {
    "name": "ipython",
    "version": 3
   },
   "file_extension": ".py",
   "mimetype": "text/x-python",
   "name": "python",
   "nbconvert_exporter": "python",
   "pygments_lexer": "ipython3",
   "version": "3.12.2"
  }
 },
 "nbformat": 4,
 "nbformat_minor": 2
}
