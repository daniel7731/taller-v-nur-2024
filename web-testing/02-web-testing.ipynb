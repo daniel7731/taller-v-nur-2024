{
 "cells": [
  {
   "cell_type": "code",
   "execution_count": 3,
   "metadata": {},
   "outputs": [
    {
     "name": "stderr",
     "output_type": "stream",
     "text": [
      "\n",
      "Running tests... \n",
      "----------------------------------------------------------------------\n",
      " test_login (__main__.WebLogin.test_login) ... OK (14.069703)s\n",
      " test_pyton (__main__.WebLogin.test_pyton) ... OK (45.121152)s\n",
      "\n",
      "----------------------------------------------------------------------\n",
      "Ran 2 tests in 0:01:03\n",
      "\n",
      "OK\n",
      "\n",
      "\n",
      "\n",
      "Generating HTML reports... \n",
      "reports\\TestResults___main__.WebLogin_2024-10-11_12-17-01.html\n"
     ]
    }
   ],
   "source": [
    "import unittest\n",
    "from selenium import webdriver\n",
    "from selenium.webdriver.common.keys import Keys\n",
    "from selenium.webdriver.common.by import By\n",
    "from selenium.webdriver.support.wait import WebDriverWait\n",
    "from selenium.webdriver.support import expected_conditions as EC\n",
    "import time as timer\n",
    "import HTMLTestRunner\n",
    "class WebLogin(unittest.TestCase):\n",
    "\n",
    "    def setUp(self):\n",
    "        self.driver = webdriver.Chrome()\n",
    "        self.driver.set_window_size(1024,768)\n",
    "\n",
    "    def test_login(self):\n",
    "        driver = self.driver\n",
    "        i=0\n",
    "        driver.get(\"http://www.extremeleagues.com\")       \n",
    "        self.assertIn(\"Extremes Leagues\", driver.title)\n",
    "        driver.save_screenshot(f\"reports/test_login-{i}.jpg\")\n",
    "        i+=1\n",
    "        elem = driver.find_element(By.XPATH, \"//a[@href='/login']\")\n",
    "        elem.click()\n",
    "        self.assertIn(\"Iniciar sesión en Extreme Leagues\",driver.title)\n",
    "        elem1 = driver.find_element(By.NAME,\"username\")\n",
    "        elem1.clear()\n",
    "        timer.sleep(2)\n",
    "        elem1.send_keys(\"account01\")\n",
    "        elem2 = driver.find_element(By.NAME,\"password\")\n",
    "        elem2.clear()\n",
    "        timer.sleep(2)\n",
    "        elem2.send_keys(\"account01*\")\n",
    "        elem3 = driver.find_element(By.XPATH, \"//input[@type='submit']\")  \n",
    "        driver.save_screenshot(f\"reports/test_login-{i}.jpg\")\n",
    "        i+=1  \n",
    "        elem3.click()\n",
    "        timer.sleep(2)\n",
    "        self.assertEqual(\"Bienvenido!\",driver.title)\n",
    "        driver.save_screenshot(f\"reports/test_login-{i}.jpg\")\n",
    "        i+=1\n",
    "        WebDriverWait(driver, 7, poll_frequency=5).until(\n",
    "            EC.presence_of_element_located((By.XPATH,'//div/ol[@class=\"list-group list-group-numbered\"]'))\n",
    "        )\n",
    "        #elem.send_keys(Keys.RETURN)\n",
    "        #self.assertNotIn(\"No results found.\", driver.page_source)\n",
    "\n",
    "    def test_pyton(self):\n",
    "        driver = self.driver\n",
    "        driver.get(\"http://www.python.org\")\n",
    "        self.assertIn(\"Python\", driver.title)\n",
    "        elem = driver.find_element(By.NAME, \"q\")\n",
    "        elem.send_keys(\"pycon\")\n",
    "        elem.send_keys(Keys.RETURN)\n",
    "        self.assertNotIn(\"No results found.\", driver.page_source)\n",
    "\n",
    "    def tearDown(self):\n",
    "        self.driver.close()\n",
    "\n",
    "if __name__ == \"__main__\":\n",
    "    with open('test_report.html', 'wb') as report_file:\n",
    "        runner = HTMLTestRunner.HTMLTestRunner(output='reports',verbosity=2)\n",
    "        runner.run(unittest.TestLoader().loadTestsFromTestCase(WebLogin))"
   ]
  }
 ],
 "metadata": {
  "kernelspec": {
   "display_name": "visioncomputer311",
   "language": "python",
   "name": "python3"
  },
  "language_info": {
   "codemirror_mode": {
    "name": "ipython",
    "version": 3
   },
   "file_extension": ".py",
   "mimetype": "text/x-python",
   "name": "python",
   "nbconvert_exporter": "python",
   "pygments_lexer": "ipython3",
   "version": "3.11.9"
  }
 },
 "nbformat": 4,
 "nbformat_minor": 2
}
